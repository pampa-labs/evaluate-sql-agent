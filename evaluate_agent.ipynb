{
 "cells": [
  {
   "cell_type": "code",
   "execution_count": 13,
   "metadata": {},
   "outputs": [],
   "source": [
    "import os\n",
    "import pandas as pd\n",
    "\n",
    "from getpass import getpass\n",
    "from langchain.utilities import SQLDatabase\n",
    "from langchain.agents import create_sql_agent, AgentType\n",
    "from langchain.agents.agent_toolkits import SQLDatabaseToolkit\n",
    "from langchain.chat_models import ChatOpenAI\n",
    "from langchain.evaluation.qa import QAEvalChain\n",
    "from langchain.callbacks import get_openai_callback\n",
    "\n",
    "from evaluation_prompts import GRADING_PROMPT\n",
    "from utils import CustomDatabase\n",
    "\n",
    "if \"OPENAI_API_KEY\" not in os.environ:\n",
    "    os.environ[\"OPENAI_API_KEY\"] = getpass(\"OpenAI API Key: \")"
   ]
  },
  {
   "attachments": {},
   "cell_type": "markdown",
   "metadata": {},
   "source": [
    "## Load evaluation dataset"
   ]
  },
  {
   "cell_type": "code",
   "execution_count": 2,
   "metadata": {},
   "outputs": [],
   "source": [
    "databases = [\n",
    "    {\n",
    "        'name': 'architecture',\n",
    "        'eval_set_path': 'datasets/pampa_dataset/architecture_eval_dataset.json',\n",
    "        'db_path': 'datasets/pampa_dataset/architecture.sqlite'\n",
    "    },\n",
    "    # {\n",
    "    #     'name': 'architecture',\n",
    "    #     'eval_set': 'datasets/pampa_dataset/architecture_eval_dataset.json',\n",
    "    #     'db': 'datasets/pampa_dataset/architecture.sqlite'\n",
    "    # },\n",
    "]\n",
    "\n",
    "eval_databases = []\n",
    "for database in databases:\n",
    "    eval_databases.append(CustomDatabase(name=database['name'],\n",
    "                                         database=SQLDatabase.from_uri(f\"sqlite:///{database['db_path']}\"),\n",
    "                                         evaluation_dataset=pd.read_json(database['eval_set_path'])\n",
    "                                         )\n",
    "                                        )"
   ]
  },
  {
   "attachments": {},
   "cell_type": "markdown",
   "metadata": {},
   "source": [
    "## Create your Agent\n",
    "We need to create one Agent for each database"
   ]
  },
  {
   "cell_type": "code",
   "execution_count": 3,
   "metadata": {},
   "outputs": [
    {
     "name": "stdout",
     "output_type": "stream",
     "text": [
      "Creating Agent for architecture...\n"
     ]
    }
   ],
   "source": [
    "llm = ChatOpenAI(temperature=0)\n",
    "\n",
    "for eval_database in eval_databases:\n",
    "    print(f\"Creating Agent for {eval_database.name}...\")\n",
    "    eval_database.agent = create_sql_agent(\n",
    "        llm=llm,\n",
    "        verbose=False,\n",
    "        agent_type=AgentType.OPENAI_FUNCTIONS,\n",
    "        toolkit=SQLDatabaseToolkit(llm=llm, db=eval_database.database)\n",
    "    )"
   ]
  },
  {
   "attachments": {},
   "cell_type": "markdown",
   "metadata": {},
   "source": [
    "### Evaluate the Agent"
   ]
  },
  {
   "cell_type": "code",
   "execution_count": 15,
   "metadata": {},
   "outputs": [],
   "source": [
    "evaluate_chain = QAEvalChain.from_llm(llm=llm,prompt=GRADING_PROMPT)"
   ]
  },
  {
   "cell_type": "code",
   "execution_count": 25,
   "metadata": {},
   "outputs": [
    {
     "name": "stderr",
     "output_type": "stream",
     "text": [
      "Running agent on DB architecture: 100%|██████████| 17/17 [01:44<00:00,  6.13s/it]\n"
     ]
    },
    {
     "name": "stdout",
     "output_type": "stream",
     "text": [
      "---------------------------------------------\n",
      "Finished evaluation on architecture\n",
      "Accuracy: 0.7058823529411765\n",
      "Agent run cost: 53274\n",
      "Evaluation cost: 3141 tokens\n",
      "---------------------------------------------\n"
     ]
    }
   ],
   "source": [
    "for eval_database in eval_databases:\n",
    "    with get_openai_callback() as agent_cb:\n",
    "        eval_database.run_agent()\n",
    "        agent_tokens = agent_cb.total_tokens\n",
    "\n",
    "    df = eval_database.evaluation_dataset\n",
    "    questions = list(df['question'])\n",
    "    targets = list(df['nl_result'])\n",
    "    agent_results = list(df['agent_results'])\n",
    "    \n",
    "    predictions = []\n",
    "    target_results = []\n",
    "    \n",
    "    for i, question in enumerate(questions):\n",
    "        predictions.append({'question':question, 'result': agent_results[i]})\n",
    "        target_results.append({'question':question, 'answer': targets[i]})\n",
    "\n",
    "    with get_openai_callback() as eval_cb:\n",
    "        res = evaluate_chain.evaluate(target_results, predictions, question_key=\"question\", prediction_key=\"result\")\n",
    "        res\n",
    "        accuracy = len([r for r in res if r['results'] == 'Correct'])/len(res)\n",
    "    \n",
    "    print(\"---------------------------------------------\")\n",
    "    print(f\"Finished evaluation for database: {eval_database.name}\")\n",
    "    print(f\"Accuracy: {accuracy}\")\n",
    "    print(f\"Agent run token cost: {agent_tokens}\")\n",
    "    print(f\"Evaluation token cost: {eval_cb.total_tokens}\")\n",
    "    print(\"---------------------------------------------\\n\\n\")"
   ]
  }
 ],
 "metadata": {
  "kernelspec": {
   "display_name": "Python 3",
   "language": "python",
   "name": "python3"
  },
  "language_info": {
   "codemirror_mode": {
    "name": "ipython",
    "version": 3
   },
   "file_extension": ".py",
   "mimetype": "text/x-python",
   "name": "python",
   "nbconvert_exporter": "python",
   "pygments_lexer": "ipython3",
   "version": "3.10.10"
  },
  "orig_nbformat": 4
 },
 "nbformat": 4,
 "nbformat_minor": 2
}
